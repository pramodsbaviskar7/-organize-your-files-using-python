{
 "cells": [
  {
   "cell_type": "code",
   "execution_count": 8,
   "metadata": {},
   "outputs": [
    {
     "name": "stdout",
     "output_type": "stream",
     "text": [
      "['']\n"
     ]
    }
   ],
   "source": [
    "  \n",
    "import os\n",
    "\n",
    "location = r\"C:\\Users\\pramo\\deepblue\\Untitled Folder 1\"\n",
    "\n",
    "all_files = os.listdir(location)\n",
    "all_fext = []\n",
    "\n",
    "#split all file extensions from the dir\n",
    "\n",
    "for f in all_files:\n",
    "    _, fext = os.path.splitext(f)\n",
    "    if fext not in all_fext:\n",
    "        all_fext.append(fext)\n",
    "print(all_fext)\n",
    "\n",
    "#create all dirs to organise files\n",
    "\n",
    "for ext in all_fext:  \n",
    "    \n",
    "    if ext:\n",
    "        os.mkdir(os.path.join(location, ext))\n",
    "\n",
    "#move all files to their respective dirs\n",
    "\n",
    "for f in all_files:\n",
    "    _, ext = os.path.splitext(f)\n",
    "    old_path = os.path.join(location, f)\n",
    "    new_path = os.path.join(location, ext, f)\n",
    "    os.rename(old_path, new_path)"
   ]
  },
  {
   "cell_type": "code",
   "execution_count": null,
   "metadata": {},
   "outputs": [],
   "source": []
  }
 ],
 "metadata": {
  "kernelspec": {
   "display_name": "Python 3",
   "language": "python",
   "name": "python3"
  },
  "language_info": {
   "codemirror_mode": {
    "name": "ipython",
    "version": 3
   },
   "file_extension": ".py",
   "mimetype": "text/x-python",
   "name": "python",
   "nbconvert_exporter": "python",
   "pygments_lexer": "ipython3",
   "version": "3.8.5"
  }
 },
 "nbformat": 4,
 "nbformat_minor": 4
}
